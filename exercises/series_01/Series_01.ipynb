{
 "cells": [
  {
   "cell_type": "markdown",
   "metadata": {},
   "source": [
    "# Series 1"
   ]
  },
  {
   "cell_type": "code",
   "execution_count": 1,
   "metadata": {},
   "outputs": [],
   "source": [
    "import pandas as pd\n",
    "import numpy as np\n",
    "\n",
    "import matplotlib.pyplot as plt"
   ]
  },
  {
   "cell_type": "markdown",
   "metadata": {},
   "source": [
    "## Aufgabe 1.1"
   ]
  },
  {
   "cell_type": "markdown",
   "metadata": {},
   "source": [
    "### a)"
   ]
  },
  {
   "cell_type": "code",
   "execution_count": 2,
   "metadata": {},
   "outputs": [],
   "source": [
    "df = pd.read_csv(\"child.csv\", sep=\",\", index_col=0)"
   ]
  },
  {
   "cell_type": "markdown",
   "metadata": {},
   "source": [
    "### b)"
   ]
  },
  {
   "cell_type": "code",
   "execution_count": 3,
   "metadata": {},
   "outputs": [
    {
     "data": {
      "text/plain": [
       "(30, 21)"
      ]
     },
     "execution_count": 3,
     "metadata": {},
     "output_type": "execute_result"
    }
   ],
   "source": [
    "# (Rows, Columns)\n",
    "df.shape"
   ]
  },
  {
   "cell_type": "markdown",
   "metadata": {},
   "source": [
    "### c)"
   ]
  },
  {
   "cell_type": "code",
   "execution_count": 4,
   "metadata": {},
   "outputs": [
    {
     "data": {
      "text/html": [
       "<div>\n",
       "<style scoped>\n",
       "    .dataframe tbody tr th:only-of-type {\n",
       "        vertical-align: middle;\n",
       "    }\n",
       "\n",
       "    .dataframe tbody tr th {\n",
       "        vertical-align: top;\n",
       "    }\n",
       "\n",
       "    .dataframe thead th {\n",
       "        text-align: right;\n",
       "    }\n",
       "</style>\n",
       "<table border=\"1\" class=\"dataframe\">\n",
       "  <thead>\n",
       "    <tr style=\"text-align: right;\">\n",
       "      <th></th>\n",
       "      <th>Average.disposable.income</th>\n",
       "      <th>Children.in.poor.homes</th>\n",
       "      <th>Educational.Deprivation</th>\n",
       "      <th>Overcrowding</th>\n",
       "      <th>Poor.environmental.conditions</th>\n",
       "      <th>Average.mean.literacy.score</th>\n",
       "      <th>Literacy.inequality</th>\n",
       "      <th>Youth.NEET.rate</th>\n",
       "      <th>Low.birth.weight</th>\n",
       "      <th>Infant.mortality</th>\n",
       "      <th>...</th>\n",
       "      <th>Vaccination.rates..pertussis.</th>\n",
       "      <th>Vaccination.rates.measles.</th>\n",
       "      <th>Physical.activity</th>\n",
       "      <th>Mortality.rates</th>\n",
       "      <th>Suicide.rates</th>\n",
       "      <th>Smoking</th>\n",
       "      <th>Drunkenness</th>\n",
       "      <th>Teenage.births</th>\n",
       "      <th>Bullying</th>\n",
       "      <th>Liking.school</th>\n",
       "    </tr>\n",
       "  </thead>\n",
       "  <tbody>\n",
       "    <tr>\n",
       "      <th>count</th>\n",
       "      <td>30.000000</td>\n",
       "      <td>30.000000</td>\n",
       "      <td>30.000000</td>\n",
       "      <td>26.000000</td>\n",
       "      <td>24.000000</td>\n",
       "      <td>30.000000</td>\n",
       "      <td>30.000000</td>\n",
       "      <td>27.000000</td>\n",
       "      <td>30.000000</td>\n",
       "      <td>30.000000</td>\n",
       "      <td>...</td>\n",
       "      <td>29.000000</td>\n",
       "      <td>29.000000</td>\n",
       "      <td>26.000000</td>\n",
       "      <td>29.000000</td>\n",
       "      <td>29.000000</td>\n",
       "      <td>24.000000</td>\n",
       "      <td>24.000000</td>\n",
       "      <td>30.000000</td>\n",
       "      <td>24.000000</td>\n",
       "      <td>25.00000</td>\n",
       "    </tr>\n",
       "    <tr>\n",
       "      <th>mean</th>\n",
       "      <td>18.847713</td>\n",
       "      <td>12.372193</td>\n",
       "      <td>2.673333</td>\n",
       "      <td>31.950163</td>\n",
       "      <td>25.217498</td>\n",
       "      <td>496.317000</td>\n",
       "      <td>1.665085</td>\n",
       "      <td>7.377778</td>\n",
       "      <td>6.643333</td>\n",
       "      <td>5.446667</td>\n",
       "      <td>...</td>\n",
       "      <td>93.775862</td>\n",
       "      <td>91.517241</td>\n",
       "      <td>20.134615</td>\n",
       "      <td>24.598966</td>\n",
       "      <td>6.856272</td>\n",
       "      <td>16.512500</td>\n",
       "      <td>15.225000</td>\n",
       "      <td>15.500000</td>\n",
       "      <td>10.979167</td>\n",
       "      <td>27.17200</td>\n",
       "    </tr>\n",
       "    <tr>\n",
       "      <th>std</th>\n",
       "      <td>7.597219</td>\n",
       "      <td>5.592696</td>\n",
       "      <td>3.315370</td>\n",
       "      <td>21.132363</td>\n",
       "      <td>7.483096</td>\n",
       "      <td>29.381643</td>\n",
       "      <td>0.067391</td>\n",
       "      <td>6.489656</td>\n",
       "      <td>1.728001</td>\n",
       "      <td>4.506756</td>\n",
       "      <td>...</td>\n",
       "      <td>5.317334</td>\n",
       "      <td>5.909138</td>\n",
       "      <td>6.157983</td>\n",
       "      <td>6.745815</td>\n",
       "      <td>3.204545</td>\n",
       "      <td>4.766852</td>\n",
       "      <td>4.301794</td>\n",
       "      <td>13.967326</td>\n",
       "      <td>5.146462</td>\n",
       "      <td>10.39926</td>\n",
       "    </tr>\n",
       "    <tr>\n",
       "      <th>min</th>\n",
       "      <td>3.839462</td>\n",
       "      <td>2.740000</td>\n",
       "      <td>0.400000</td>\n",
       "      <td>10.326503</td>\n",
       "      <td>10.500000</td>\n",
       "      <td>408.670000</td>\n",
       "      <td>1.475432</td>\n",
       "      <td>1.700000</td>\n",
       "      <td>3.900000</td>\n",
       "      <td>2.300000</td>\n",
       "      <td>...</td>\n",
       "      <td>78.000000</td>\n",
       "      <td>74.000000</td>\n",
       "      <td>13.100000</td>\n",
       "      <td>14.840000</td>\n",
       "      <td>1.263026</td>\n",
       "      <td>8.100000</td>\n",
       "      <td>10.000000</td>\n",
       "      <td>3.700000</td>\n",
       "      <td>4.200000</td>\n",
       "      <td>11.70000</td>\n",
       "    </tr>\n",
       "    <tr>\n",
       "      <th>25%</th>\n",
       "      <td>16.617877</td>\n",
       "      <td>8.901475</td>\n",
       "      <td>1.000000</td>\n",
       "      <td>17.058130</td>\n",
       "      <td>20.153506</td>\n",
       "      <td>482.750000</td>\n",
       "      <td>1.623048</td>\n",
       "      <td>4.550000</td>\n",
       "      <td>5.150000</td>\n",
       "      <td>3.525000</td>\n",
       "      <td>...</td>\n",
       "      <td>91.000000</td>\n",
       "      <td>88.000000</td>\n",
       "      <td>15.800000</td>\n",
       "      <td>21.170000</td>\n",
       "      <td>5.036520</td>\n",
       "      <td>14.625000</td>\n",
       "      <td>11.350000</td>\n",
       "      <td>7.050000</td>\n",
       "      <td>7.975000</td>\n",
       "      <td>21.40000</td>\n",
       "    </tr>\n",
       "    <tr>\n",
       "      <th>50%</th>\n",
       "      <td>21.107187</td>\n",
       "      <td>11.659053</td>\n",
       "      <td>1.500000</td>\n",
       "      <td>21.574977</td>\n",
       "      <td>25.487116</td>\n",
       "      <td>501.335000</td>\n",
       "      <td>1.682739</td>\n",
       "      <td>6.200000</td>\n",
       "      <td>6.750000</td>\n",
       "      <td>4.200000</td>\n",
       "      <td>...</td>\n",
       "      <td>95.800000</td>\n",
       "      <td>94.000000</td>\n",
       "      <td>19.300000</td>\n",
       "      <td>23.150000</td>\n",
       "      <td>6.784772</td>\n",
       "      <td>16.600000</td>\n",
       "      <td>14.550000</td>\n",
       "      <td>10.600000</td>\n",
       "      <td>9.650000</td>\n",
       "      <td>25.60000</td>\n",
       "    </tr>\n",
       "    <tr>\n",
       "      <th>75%</th>\n",
       "      <td>22.642722</td>\n",
       "      <td>16.091953</td>\n",
       "      <td>2.200000</td>\n",
       "      <td>44.392351</td>\n",
       "      <td>30.236732</td>\n",
       "      <td>512.835000</td>\n",
       "      <td>1.719012</td>\n",
       "      <td>8.400000</td>\n",
       "      <td>7.500000</td>\n",
       "      <td>5.250000</td>\n",
       "      <td>...</td>\n",
       "      <td>97.800000</td>\n",
       "      <td>96.300000</td>\n",
       "      <td>21.800000</td>\n",
       "      <td>25.750000</td>\n",
       "      <td>8.863713</td>\n",
       "      <td>19.500000</td>\n",
       "      <td>17.925000</td>\n",
       "      <td>17.800000</td>\n",
       "      <td>13.825000</td>\n",
       "      <td>34.90000</td>\n",
       "    </tr>\n",
       "    <tr>\n",
       "      <th>max</th>\n",
       "      <td>34.241822</td>\n",
       "      <td>24.590000</td>\n",
       "      <td>13.700000</td>\n",
       "      <td>73.957667</td>\n",
       "      <td>38.712874</td>\n",
       "      <td>552.670000</td>\n",
       "      <td>1.755798</td>\n",
       "      <td>37.700000</td>\n",
       "      <td>11.300000</td>\n",
       "      <td>23.600000</td>\n",
       "      <td>...</td>\n",
       "      <td>99.800000</td>\n",
       "      <td>99.800000</td>\n",
       "      <td>42.100000</td>\n",
       "      <td>50.230000</td>\n",
       "      <td>15.949567</td>\n",
       "      <td>27.100000</td>\n",
       "      <td>24.800000</td>\n",
       "      <td>65.800000</td>\n",
       "      <td>25.300000</td>\n",
       "      <td>57.40000</td>\n",
       "    </tr>\n",
       "  </tbody>\n",
       "</table>\n",
       "<p>8 rows × 21 columns</p>\n",
       "</div>"
      ],
      "text/plain": [
       "       Average.disposable.income  Children.in.poor.homes  \\\n",
       "count                  30.000000               30.000000   \n",
       "mean                   18.847713               12.372193   \n",
       "std                     7.597219                5.592696   \n",
       "min                     3.839462                2.740000   \n",
       "25%                    16.617877                8.901475   \n",
       "50%                    21.107187               11.659053   \n",
       "75%                    22.642722               16.091953   \n",
       "max                    34.241822               24.590000   \n",
       "\n",
       "       Educational.Deprivation  Overcrowding  Poor.environmental.conditions  \\\n",
       "count                30.000000     26.000000                      24.000000   \n",
       "mean                  2.673333     31.950163                      25.217498   \n",
       "std                   3.315370     21.132363                       7.483096   \n",
       "min                   0.400000     10.326503                      10.500000   \n",
       "25%                   1.000000     17.058130                      20.153506   \n",
       "50%                   1.500000     21.574977                      25.487116   \n",
       "75%                   2.200000     44.392351                      30.236732   \n",
       "max                  13.700000     73.957667                      38.712874   \n",
       "\n",
       "       Average.mean.literacy.score  Literacy.inequality  Youth.NEET.rate  \\\n",
       "count                    30.000000            30.000000        27.000000   \n",
       "mean                    496.317000             1.665085         7.377778   \n",
       "std                      29.381643             0.067391         6.489656   \n",
       "min                     408.670000             1.475432         1.700000   \n",
       "25%                     482.750000             1.623048         4.550000   \n",
       "50%                     501.335000             1.682739         6.200000   \n",
       "75%                     512.835000             1.719012         8.400000   \n",
       "max                     552.670000             1.755798        37.700000   \n",
       "\n",
       "       Low.birth.weight  Infant.mortality      ...        \\\n",
       "count         30.000000         30.000000      ...         \n",
       "mean           6.643333          5.446667      ...         \n",
       "std            1.728001          4.506756      ...         \n",
       "min            3.900000          2.300000      ...         \n",
       "25%            5.150000          3.525000      ...         \n",
       "50%            6.750000          4.200000      ...         \n",
       "75%            7.500000          5.250000      ...         \n",
       "max           11.300000         23.600000      ...         \n",
       "\n",
       "       Vaccination.rates..pertussis.  Vaccination.rates.measles.  \\\n",
       "count                      29.000000                   29.000000   \n",
       "mean                       93.775862                   91.517241   \n",
       "std                         5.317334                    5.909138   \n",
       "min                        78.000000                   74.000000   \n",
       "25%                        91.000000                   88.000000   \n",
       "50%                        95.800000                   94.000000   \n",
       "75%                        97.800000                   96.300000   \n",
       "max                        99.800000                   99.800000   \n",
       "\n",
       "       Physical.activity  Mortality.rates  Suicide.rates    Smoking  \\\n",
       "count          26.000000        29.000000      29.000000  24.000000   \n",
       "mean           20.134615        24.598966       6.856272  16.512500   \n",
       "std             6.157983         6.745815       3.204545   4.766852   \n",
       "min            13.100000        14.840000       1.263026   8.100000   \n",
       "25%            15.800000        21.170000       5.036520  14.625000   \n",
       "50%            19.300000        23.150000       6.784772  16.600000   \n",
       "75%            21.800000        25.750000       8.863713  19.500000   \n",
       "max            42.100000        50.230000      15.949567  27.100000   \n",
       "\n",
       "       Drunkenness  Teenage.births   Bullying  Liking.school  \n",
       "count    24.000000       30.000000  24.000000       25.00000  \n",
       "mean     15.225000       15.500000  10.979167       27.17200  \n",
       "std       4.301794       13.967326   5.146462       10.39926  \n",
       "min      10.000000        3.700000   4.200000       11.70000  \n",
       "25%      11.350000        7.050000   7.975000       21.40000  \n",
       "50%      14.550000       10.600000   9.650000       25.60000  \n",
       "75%      17.925000       17.800000  13.825000       34.90000  \n",
       "max      24.800000       65.800000  25.300000       57.40000  \n",
       "\n",
       "[8 rows x 21 columns]"
      ]
     },
     "execution_count": 4,
     "metadata": {},
     "output_type": "execute_result"
    }
   ],
   "source": [
    "df.describe()"
   ]
  },
  {
   "cell_type": "markdown",
   "metadata": {},
   "source": [
    "### d)"
   ]
  },
  {
   "cell_type": "code",
   "execution_count": 5,
   "metadata": {},
   "outputs": [
    {
     "data": {
      "text/plain": [
       "True"
      ]
     },
     "execution_count": 5,
     "metadata": {},
     "output_type": "execute_result"
    }
   ],
   "source": [
    "\"Netherlands\" in df.index"
   ]
  },
  {
   "cell_type": "code",
   "execution_count": 6,
   "metadata": {},
   "outputs": [
    {
     "data": {
      "text/plain": [
       "False"
      ]
     },
     "execution_count": 6,
     "metadata": {},
     "output_type": "execute_result"
    }
   ],
   "source": [
    "\"China\" in df.index"
   ]
  },
  {
   "cell_type": "code",
   "execution_count": 7,
   "metadata": {},
   "outputs": [
    {
     "name": "stdout",
     "output_type": "stream",
     "text": [
      "Average.disposable.income\n",
      "Children.in.poor.homes\n",
      "Educational.Deprivation\n",
      "Overcrowding\n",
      "Poor.environmental.conditions\n",
      "Average.mean.literacy.score\n",
      "Literacy.inequality\n",
      "Youth.NEET.rate\n",
      "Low.birth.weight\n",
      "Infant.mortality\n",
      "Breastfeeding.rates\n",
      "Vaccination.rates..pertussis.\n",
      "Vaccination.rates.measles.\n",
      "Physical.activity\n",
      "Mortality.rates\n",
      "Suicide.rates\n",
      "Smoking\n",
      "Drunkenness\n",
      "Teenage.births\n",
      "Bullying\n",
      "Liking.school\n"
     ]
    }
   ],
   "source": [
    "print(\"\\n\".join(df.columns))"
   ]
  },
  {
   "cell_type": "markdown",
   "metadata": {},
   "source": [
    "### e)"
   ]
  },
  {
   "cell_type": "code",
   "execution_count": 8,
   "metadata": {},
   "outputs": [
    {
     "data": {
      "text/html": [
       "<div>\n",
       "<style scoped>\n",
       "    .dataframe tbody tr th:only-of-type {\n",
       "        vertical-align: middle;\n",
       "    }\n",
       "\n",
       "    .dataframe tbody tr th {\n",
       "        vertical-align: top;\n",
       "    }\n",
       "\n",
       "    .dataframe thead th {\n",
       "        text-align: right;\n",
       "    }\n",
       "</style>\n",
       "<table border=\"1\" class=\"dataframe\">\n",
       "  <thead>\n",
       "    <tr style=\"text-align: right;\">\n",
       "      <th></th>\n",
       "      <th>Average.disposable.income</th>\n",
       "      <th>Children.in.poor.homes</th>\n",
       "      <th>Educational.Deprivation</th>\n",
       "      <th>Overcrowding</th>\n",
       "      <th>Poor.environmental.conditions</th>\n",
       "      <th>Average.mean.literacy.score</th>\n",
       "      <th>Literacy.inequality</th>\n",
       "      <th>Youth.NEET.rate</th>\n",
       "      <th>Low.birth.weight</th>\n",
       "      <th>Infant.mortality</th>\n",
       "      <th>...</th>\n",
       "      <th>Vaccination.rates..pertussis.</th>\n",
       "      <th>Vaccination.rates.measles.</th>\n",
       "      <th>Physical.activity</th>\n",
       "      <th>Mortality.rates</th>\n",
       "      <th>Suicide.rates</th>\n",
       "      <th>Smoking</th>\n",
       "      <th>Drunkenness</th>\n",
       "      <th>Teenage.births</th>\n",
       "      <th>Bullying</th>\n",
       "      <th>Liking.school</th>\n",
       "    </tr>\n",
       "  </thead>\n",
       "  <tbody>\n",
       "    <tr>\n",
       "      <th>Denmark</th>\n",
       "      <td>23.175894</td>\n",
       "      <td>2.740000</td>\n",
       "      <td>0.7</td>\n",
       "      <td>17.552965</td>\n",
       "      <td>20.151467</td>\n",
       "      <td>501.00</td>\n",
       "      <td>1.594974</td>\n",
       "      <td>4.3</td>\n",
       "      <td>4.9</td>\n",
       "      <td>4.4</td>\n",
       "      <td>...</td>\n",
       "      <td>95.0</td>\n",
       "      <td>96.0</td>\n",
       "      <td>22.7</td>\n",
       "      <td>22.93</td>\n",
       "      <td>5.942231</td>\n",
       "      <td>15.0</td>\n",
       "      <td>24.8</td>\n",
       "      <td>6.6</td>\n",
       "      <td>8.0</td>\n",
       "      <td>25.6</td>\n",
       "    </tr>\n",
       "    <tr>\n",
       "      <th>Finland</th>\n",
       "      <td>22.027651</td>\n",
       "      <td>4.170000</td>\n",
       "      <td>1.0</td>\n",
       "      <td>15.228876</td>\n",
       "      <td>22.802362</td>\n",
       "      <td>552.67</td>\n",
       "      <td>1.475432</td>\n",
       "      <td>5.2</td>\n",
       "      <td>4.1</td>\n",
       "      <td>3.0</td>\n",
       "      <td>...</td>\n",
       "      <td>97.0</td>\n",
       "      <td>97.0</td>\n",
       "      <td>24.8</td>\n",
       "      <td>23.54</td>\n",
       "      <td>12.158687</td>\n",
       "      <td>22.0</td>\n",
       "      <td>22.4</td>\n",
       "      <td>9.7</td>\n",
       "      <td>8.0</td>\n",
       "      <td>16.1</td>\n",
       "    </tr>\n",
       "    <tr>\n",
       "      <th>United Kingdom</th>\n",
       "      <td>22.697062</td>\n",
       "      <td>10.080000</td>\n",
       "      <td>1.8</td>\n",
       "      <td>21.497427</td>\n",
       "      <td>29.069052</td>\n",
       "      <td>501.67</td>\n",
       "      <td>1.690351</td>\n",
       "      <td>9.3</td>\n",
       "      <td>7.5</td>\n",
       "      <td>5.1</td>\n",
       "      <td>...</td>\n",
       "      <td>91.4</td>\n",
       "      <td>83.8</td>\n",
       "      <td>18.7</td>\n",
       "      <td>21.17</td>\n",
       "      <td>2.987869</td>\n",
       "      <td>15.9</td>\n",
       "      <td>22.1</td>\n",
       "      <td>24.8</td>\n",
       "      <td>9.7</td>\n",
       "      <td>35.7</td>\n",
       "    </tr>\n",
       "    <tr>\n",
       "      <th>Poland</th>\n",
       "      <td>7.939399</td>\n",
       "      <td>21.500000</td>\n",
       "      <td>2.1</td>\n",
       "      <td>73.957667</td>\n",
       "      <td>22.841904</td>\n",
       "      <td>500.33</td>\n",
       "      <td>1.632217</td>\n",
       "      <td>1.7</td>\n",
       "      <td>6.1</td>\n",
       "      <td>6.4</td>\n",
       "      <td>...</td>\n",
       "      <td>99.0</td>\n",
       "      <td>97.0</td>\n",
       "      <td>17.3</td>\n",
       "      <td>28.13</td>\n",
       "      <td>8.863713</td>\n",
       "      <td>16.4</td>\n",
       "      <td>19.9</td>\n",
       "      <td>14.5</td>\n",
       "      <td>9.6</td>\n",
       "      <td>21.1</td>\n",
       "    </tr>\n",
       "    <tr>\n",
       "      <th>Canada</th>\n",
       "      <td>25.606245</td>\n",
       "      <td>15.057585</td>\n",
       "      <td>2.1</td>\n",
       "      <td>NaN</td>\n",
       "      <td>NaN</td>\n",
       "      <td>529.33</td>\n",
       "      <td>1.573912</td>\n",
       "      <td>6.1</td>\n",
       "      <td>5.9</td>\n",
       "      <td>5.3</td>\n",
       "      <td>...</td>\n",
       "      <td>78.0</td>\n",
       "      <td>94.0</td>\n",
       "      <td>23.6</td>\n",
       "      <td>23.43</td>\n",
       "      <td>10.047535</td>\n",
       "      <td>8.6</td>\n",
       "      <td>18.8</td>\n",
       "      <td>13.2</td>\n",
       "      <td>14.0</td>\n",
       "      <td>29.5</td>\n",
       "    </tr>\n",
       "  </tbody>\n",
       "</table>\n",
       "<p>5 rows × 21 columns</p>\n",
       "</div>"
      ],
      "text/plain": [
       "                Average.disposable.income  Children.in.poor.homes  \\\n",
       "Denmark                         23.175894                2.740000   \n",
       "Finland                         22.027651                4.170000   \n",
       "United Kingdom                  22.697062               10.080000   \n",
       "Poland                           7.939399               21.500000   \n",
       "Canada                          25.606245               15.057585   \n",
       "\n",
       "                Educational.Deprivation  Overcrowding  \\\n",
       "Denmark                             0.7     17.552965   \n",
       "Finland                             1.0     15.228876   \n",
       "United Kingdom                      1.8     21.497427   \n",
       "Poland                              2.1     73.957667   \n",
       "Canada                              2.1           NaN   \n",
       "\n",
       "                Poor.environmental.conditions  Average.mean.literacy.score  \\\n",
       "Denmark                             20.151467                       501.00   \n",
       "Finland                             22.802362                       552.67   \n",
       "United Kingdom                      29.069052                       501.67   \n",
       "Poland                              22.841904                       500.33   \n",
       "Canada                                    NaN                       529.33   \n",
       "\n",
       "                Literacy.inequality  Youth.NEET.rate  Low.birth.weight  \\\n",
       "Denmark                    1.594974              4.3               4.9   \n",
       "Finland                    1.475432              5.2               4.1   \n",
       "United Kingdom             1.690351              9.3               7.5   \n",
       "Poland                     1.632217              1.7               6.1   \n",
       "Canada                     1.573912              6.1               5.9   \n",
       "\n",
       "                Infant.mortality      ...        \\\n",
       "Denmark                      4.4      ...         \n",
       "Finland                      3.0      ...         \n",
       "United Kingdom               5.1      ...         \n",
       "Poland                       6.4      ...         \n",
       "Canada                       5.3      ...         \n",
       "\n",
       "                Vaccination.rates..pertussis.  Vaccination.rates.measles.  \\\n",
       "Denmark                                  95.0                        96.0   \n",
       "Finland                                  97.0                        97.0   \n",
       "United Kingdom                           91.4                        83.8   \n",
       "Poland                                   99.0                        97.0   \n",
       "Canada                                   78.0                        94.0   \n",
       "\n",
       "                Physical.activity  Mortality.rates  Suicide.rates  Smoking  \\\n",
       "Denmark                      22.7            22.93       5.942231     15.0   \n",
       "Finland                      24.8            23.54      12.158687     22.0   \n",
       "United Kingdom               18.7            21.17       2.987869     15.9   \n",
       "Poland                       17.3            28.13       8.863713     16.4   \n",
       "Canada                       23.6            23.43      10.047535      8.6   \n",
       "\n",
       "                Drunkenness  Teenage.births  Bullying  Liking.school  \n",
       "Denmark                24.8             6.6       8.0           25.6  \n",
       "Finland                22.4             9.7       8.0           16.1  \n",
       "United Kingdom         22.1            24.8       9.7           35.7  \n",
       "Poland                 19.9            14.5       9.6           21.1  \n",
       "Canada                 18.8            13.2      14.0           29.5  \n",
       "\n",
       "[5 rows x 21 columns]"
      ]
     },
     "execution_count": 8,
     "metadata": {},
     "output_type": "execute_result"
    }
   ],
   "source": [
    "drunk = df.sort_values(by=\"Drunkenness\", ascending=False)\n",
    "drunk.head()"
   ]
  },
  {
   "cell_type": "markdown",
   "metadata": {},
   "source": [
    "### f)"
   ]
  },
  {
   "cell_type": "code",
   "execution_count": 9,
   "metadata": {},
   "outputs": [
    {
     "data": {
      "text/html": [
       "<div>\n",
       "<style scoped>\n",
       "    .dataframe tbody tr th:only-of-type {\n",
       "        vertical-align: middle;\n",
       "    }\n",
       "\n",
       "    .dataframe tbody tr th {\n",
       "        vertical-align: top;\n",
       "    }\n",
       "\n",
       "    .dataframe thead th {\n",
       "        text-align: right;\n",
       "    }\n",
       "</style>\n",
       "<table border=\"1\" class=\"dataframe\">\n",
       "  <thead>\n",
       "    <tr style=\"text-align: right;\">\n",
       "      <th></th>\n",
       "      <th>Average.disposable.income</th>\n",
       "      <th>Children.in.poor.homes</th>\n",
       "      <th>Educational.Deprivation</th>\n",
       "      <th>Overcrowding</th>\n",
       "      <th>Poor.environmental.conditions</th>\n",
       "      <th>Average.mean.literacy.score</th>\n",
       "      <th>Literacy.inequality</th>\n",
       "      <th>Youth.NEET.rate</th>\n",
       "      <th>Low.birth.weight</th>\n",
       "      <th>Infant.mortality</th>\n",
       "      <th>...</th>\n",
       "      <th>Vaccination.rates..pertussis.</th>\n",
       "      <th>Vaccination.rates.measles.</th>\n",
       "      <th>Physical.activity</th>\n",
       "      <th>Mortality.rates</th>\n",
       "      <th>Suicide.rates</th>\n",
       "      <th>Smoking</th>\n",
       "      <th>Drunkenness</th>\n",
       "      <th>Teenage.births</th>\n",
       "      <th>Bullying</th>\n",
       "      <th>Liking.school</th>\n",
       "    </tr>\n",
       "  </thead>\n",
       "  <tbody>\n",
       "    <tr>\n",
       "      <th>Iceland</th>\n",
       "      <td>22.286852</td>\n",
       "      <td>8.25</td>\n",
       "      <td>0.4</td>\n",
       "      <td>21.652526</td>\n",
       "      <td>15.534688</td>\n",
       "      <td>493.67</td>\n",
       "      <td>1.654064</td>\n",
       "      <td>NaN</td>\n",
       "      <td>3.9</td>\n",
       "      <td>2.3</td>\n",
       "      <td>...</td>\n",
       "      <td>97.0</td>\n",
       "      <td>94.0</td>\n",
       "      <td>20.6</td>\n",
       "      <td>16.95</td>\n",
       "      <td>7.841312</td>\n",
       "      <td>13.5</td>\n",
       "      <td>10.5</td>\n",
       "      <td>16.9</td>\n",
       "      <td>5.4</td>\n",
       "      <td>36.6</td>\n",
       "    </tr>\n",
       "  </tbody>\n",
       "</table>\n",
       "<p>1 rows × 21 columns</p>\n",
       "</div>"
      ],
      "text/plain": [
       "         Average.disposable.income  Children.in.poor.homes  \\\n",
       "Iceland                  22.286852                    8.25   \n",
       "\n",
       "         Educational.Deprivation  Overcrowding  Poor.environmental.conditions  \\\n",
       "Iceland                      0.4     21.652526                      15.534688   \n",
       "\n",
       "         Average.mean.literacy.score  Literacy.inequality  Youth.NEET.rate  \\\n",
       "Iceland                       493.67             1.654064              NaN   \n",
       "\n",
       "         Low.birth.weight  Infant.mortality      ...        \\\n",
       "Iceland               3.9               2.3      ...         \n",
       "\n",
       "         Vaccination.rates..pertussis.  Vaccination.rates.measles.  \\\n",
       "Iceland                           97.0                        94.0   \n",
       "\n",
       "         Physical.activity  Mortality.rates  Suicide.rates  Smoking  \\\n",
       "Iceland               20.6            16.95       7.841312     13.5   \n",
       "\n",
       "         Drunkenness  Teenage.births  Bullying  Liking.school  \n",
       "Iceland         10.5            16.9       5.4           36.6  \n",
       "\n",
       "[1 rows x 21 columns]"
      ]
     },
     "execution_count": 9,
     "metadata": {},
     "output_type": "execute_result"
    }
   ],
   "source": [
    "infant_mortality = df.nsmallest(n=1, columns=\"Infant.mortality\")\n",
    "infant_mortality"
   ]
  },
  {
   "cell_type": "markdown",
   "metadata": {},
   "source": [
    "### g)"
   ]
  },
  {
   "cell_type": "code",
   "execution_count": 10,
   "metadata": {},
   "outputs": [
    {
     "name": "stdout",
     "output_type": "stream",
     "text": [
      "Physical activity mean:  20.134615384615383\n"
     ]
    },
    {
     "data": {
      "text/html": [
       "<div>\n",
       "<style scoped>\n",
       "    .dataframe tbody tr th:only-of-type {\n",
       "        vertical-align: middle;\n",
       "    }\n",
       "\n",
       "    .dataframe tbody tr th {\n",
       "        vertical-align: top;\n",
       "    }\n",
       "\n",
       "    .dataframe thead th {\n",
       "        text-align: right;\n",
       "    }\n",
       "</style>\n",
       "<table border=\"1\" class=\"dataframe\">\n",
       "  <thead>\n",
       "    <tr style=\"text-align: right;\">\n",
       "      <th></th>\n",
       "      <th>Average.disposable.income</th>\n",
       "      <th>Children.in.poor.homes</th>\n",
       "      <th>Educational.Deprivation</th>\n",
       "      <th>Overcrowding</th>\n",
       "      <th>Poor.environmental.conditions</th>\n",
       "      <th>Average.mean.literacy.score</th>\n",
       "      <th>Literacy.inequality</th>\n",
       "      <th>Youth.NEET.rate</th>\n",
       "      <th>Low.birth.weight</th>\n",
       "      <th>Infant.mortality</th>\n",
       "      <th>...</th>\n",
       "      <th>Vaccination.rates..pertussis.</th>\n",
       "      <th>Vaccination.rates.measles.</th>\n",
       "      <th>Physical.activity</th>\n",
       "      <th>Mortality.rates</th>\n",
       "      <th>Suicide.rates</th>\n",
       "      <th>Smoking</th>\n",
       "      <th>Drunkenness</th>\n",
       "      <th>Teenage.births</th>\n",
       "      <th>Bullying</th>\n",
       "      <th>Liking.school</th>\n",
       "    </tr>\n",
       "  </thead>\n",
       "  <tbody>\n",
       "    <tr>\n",
       "      <th>Austria</th>\n",
       "      <td>22.162446</td>\n",
       "      <td>6.166094</td>\n",
       "      <td>0.6</td>\n",
       "      <td>34.014601</td>\n",
       "      <td>20.154186</td>\n",
       "      <td>502.00</td>\n",
       "      <td>1.716942</td>\n",
       "      <td>6.9</td>\n",
       "      <td>6.8</td>\n",
       "      <td>4.2</td>\n",
       "      <td>...</td>\n",
       "      <td>83.0</td>\n",
       "      <td>74.0</td>\n",
       "      <td>19.6</td>\n",
       "      <td>24.57</td>\n",
       "      <td>9.482761</td>\n",
       "      <td>27.1</td>\n",
       "      <td>18.6</td>\n",
       "      <td>12.3</td>\n",
       "      <td>15.6</td>\n",
       "      <td>38.1</td>\n",
       "    </tr>\n",
       "    <tr>\n",
       "      <th>Belgium</th>\n",
       "      <td>21.401153</td>\n",
       "      <td>9.974720</td>\n",
       "      <td>1.0</td>\n",
       "      <td>12.614505</td>\n",
       "      <td>29.754526</td>\n",
       "      <td>510.33</td>\n",
       "      <td>1.740258</td>\n",
       "      <td>6.2</td>\n",
       "      <td>7.8</td>\n",
       "      <td>3.7</td>\n",
       "      <td>...</td>\n",
       "      <td>97.0</td>\n",
       "      <td>88.0</td>\n",
       "      <td>19.1</td>\n",
       "      <td>28.97</td>\n",
       "      <td>8.977713</td>\n",
       "      <td>16.7</td>\n",
       "      <td>13.9</td>\n",
       "      <td>7.8</td>\n",
       "      <td>12.2</td>\n",
       "      <td>21.6</td>\n",
       "    </tr>\n",
       "    <tr>\n",
       "      <th>France</th>\n",
       "      <td>18.960382</td>\n",
       "      <td>7.640000</td>\n",
       "      <td>1.2</td>\n",
       "      <td>20.284619</td>\n",
       "      <td>25.830298</td>\n",
       "      <td>493.00</td>\n",
       "      <td>1.728004</td>\n",
       "      <td>6.2</td>\n",
       "      <td>6.8</td>\n",
       "      <td>3.6</td>\n",
       "      <td>...</td>\n",
       "      <td>98.0</td>\n",
       "      <td>87.1</td>\n",
       "      <td>13.5</td>\n",
       "      <td>21.04</td>\n",
       "      <td>4.906704</td>\n",
       "      <td>19.0</td>\n",
       "      <td>11.2</td>\n",
       "      <td>6.7</td>\n",
       "      <td>13.6</td>\n",
       "      <td>21.4</td>\n",
       "    </tr>\n",
       "    <tr>\n",
       "      <th>Germany</th>\n",
       "      <td>19.894067</td>\n",
       "      <td>16.289270</td>\n",
       "      <td>0.5</td>\n",
       "      <td>19.967763</td>\n",
       "      <td>37.374708</td>\n",
       "      <td>505.00</td>\n",
       "      <td>1.719702</td>\n",
       "      <td>4.4</td>\n",
       "      <td>6.8</td>\n",
       "      <td>3.9</td>\n",
       "      <td>...</td>\n",
       "      <td>97.8</td>\n",
       "      <td>94.0</td>\n",
       "      <td>17.0</td>\n",
       "      <td>21.23</td>\n",
       "      <td>5.507378</td>\n",
       "      <td>19.5</td>\n",
       "      <td>15.1</td>\n",
       "      <td>9.8</td>\n",
       "      <td>13.9</td>\n",
       "      <td>34.9</td>\n",
       "    </tr>\n",
       "    <tr>\n",
       "      <th>Greece</th>\n",
       "      <td>17.183647</td>\n",
       "      <td>13.230296</td>\n",
       "      <td>6.1</td>\n",
       "      <td>54.922056</td>\n",
       "      <td>25.070654</td>\n",
       "      <td>464.00</td>\n",
       "      <td>1.722499</td>\n",
       "      <td>9.8</td>\n",
       "      <td>8.8</td>\n",
       "      <td>3.8</td>\n",
       "      <td>...</td>\n",
       "      <td>88.0</td>\n",
       "      <td>88.0</td>\n",
       "      <td>15.5</td>\n",
       "      <td>23.15</td>\n",
       "      <td>1.263026</td>\n",
       "      <td>16.5</td>\n",
       "      <td>10.3</td>\n",
       "      <td>8.7</td>\n",
       "      <td>22.0</td>\n",
       "      <td>25.6</td>\n",
       "    </tr>\n",
       "    <tr>\n",
       "      <th>Hungary</th>\n",
       "      <td>9.463130</td>\n",
       "      <td>8.724203</td>\n",
       "      <td>2.1</td>\n",
       "      <td>73.306021</td>\n",
       "      <td>22.213785</td>\n",
       "      <td>492.33</td>\n",
       "      <td>1.620710</td>\n",
       "      <td>6.4</td>\n",
       "      <td>8.2</td>\n",
       "      <td>6.2</td>\n",
       "      <td>...</td>\n",
       "      <td>99.8</td>\n",
       "      <td>99.8</td>\n",
       "      <td>19.5</td>\n",
       "      <td>25.75</td>\n",
       "      <td>6.806580</td>\n",
       "      <td>21.5</td>\n",
       "      <td>17.7</td>\n",
       "      <td>20.7</td>\n",
       "      <td>6.6</td>\n",
       "      <td>27.6</td>\n",
       "    </tr>\n",
       "    <tr>\n",
       "      <th>Italy</th>\n",
       "      <td>17.180761</td>\n",
       "      <td>15.500000</td>\n",
       "      <td>1.2</td>\n",
       "      <td>47.851602</td>\n",
       "      <td>32.577363</td>\n",
       "      <td>468.67</td>\n",
       "      <td>1.752955</td>\n",
       "      <td>11.2</td>\n",
       "      <td>6.7</td>\n",
       "      <td>4.7</td>\n",
       "      <td>...</td>\n",
       "      <td>94.7</td>\n",
       "      <td>87.3</td>\n",
       "      <td>15.1</td>\n",
       "      <td>21.76</td>\n",
       "      <td>2.437998</td>\n",
       "      <td>20.0</td>\n",
       "      <td>10.0</td>\n",
       "      <td>6.8</td>\n",
       "      <td>7.9</td>\n",
       "      <td>12.8</td>\n",
       "    </tr>\n",
       "    <tr>\n",
       "      <th>Luxembourg</th>\n",
       "      <td>34.241822</td>\n",
       "      <td>12.390000</td>\n",
       "      <td>1.1</td>\n",
       "      <td>16.893185</td>\n",
       "      <td>25.574231</td>\n",
       "      <td>485.00</td>\n",
       "      <td>1.701361</td>\n",
       "      <td>2.2</td>\n",
       "      <td>4.9</td>\n",
       "      <td>2.6</td>\n",
       "      <td>...</td>\n",
       "      <td>NaN</td>\n",
       "      <td>NaN</td>\n",
       "      <td>15.2</td>\n",
       "      <td>14.84</td>\n",
       "      <td>6.357194</td>\n",
       "      <td>19.0</td>\n",
       "      <td>11.7</td>\n",
       "      <td>8.6</td>\n",
       "      <td>13.8</td>\n",
       "      <td>20.7</td>\n",
       "    </tr>\n",
       "    <tr>\n",
       "      <th>Mexico</th>\n",
       "      <td>5.335074</td>\n",
       "      <td>22.164514</td>\n",
       "      <td>13.7</td>\n",
       "      <td>69.600000</td>\n",
       "      <td>NaN</td>\n",
       "      <td>408.67</td>\n",
       "      <td>1.755798</td>\n",
       "      <td>NaN</td>\n",
       "      <td>8.8</td>\n",
       "      <td>18.8</td>\n",
       "      <td>...</td>\n",
       "      <td>98.1</td>\n",
       "      <td>96.4</td>\n",
       "      <td>18.1</td>\n",
       "      <td>50.23</td>\n",
       "      <td>5.128754</td>\n",
       "      <td>NaN</td>\n",
       "      <td>NaN</td>\n",
       "      <td>65.8</td>\n",
       "      <td>NaN</td>\n",
       "      <td>NaN</td>\n",
       "    </tr>\n",
       "    <tr>\n",
       "      <th>Norway</th>\n",
       "      <td>28.574371</td>\n",
       "      <td>4.600000</td>\n",
       "      <td>1.3</td>\n",
       "      <td>15.113671</td>\n",
       "      <td>11.992789</td>\n",
       "      <td>487.00</td>\n",
       "      <td>1.692809</td>\n",
       "      <td>2.5</td>\n",
       "      <td>4.8</td>\n",
       "      <td>3.1</td>\n",
       "      <td>...</td>\n",
       "      <td>91.0</td>\n",
       "      <td>88.0</td>\n",
       "      <td>15.6</td>\n",
       "      <td>21.49</td>\n",
       "      <td>10.094030</td>\n",
       "      <td>10.4</td>\n",
       "      <td>14.0</td>\n",
       "      <td>9.4</td>\n",
       "      <td>8.3</td>\n",
       "      <td>41.7</td>\n",
       "    </tr>\n",
       "    <tr>\n",
       "      <th>Poland</th>\n",
       "      <td>7.939399</td>\n",
       "      <td>21.500000</td>\n",
       "      <td>2.1</td>\n",
       "      <td>73.957667</td>\n",
       "      <td>22.841904</td>\n",
       "      <td>500.33</td>\n",
       "      <td>1.632217</td>\n",
       "      <td>1.7</td>\n",
       "      <td>6.1</td>\n",
       "      <td>6.4</td>\n",
       "      <td>...</td>\n",
       "      <td>99.0</td>\n",
       "      <td>97.0</td>\n",
       "      <td>17.3</td>\n",
       "      <td>28.13</td>\n",
       "      <td>8.863713</td>\n",
       "      <td>16.4</td>\n",
       "      <td>19.9</td>\n",
       "      <td>14.5</td>\n",
       "      <td>9.6</td>\n",
       "      <td>21.1</td>\n",
       "    </tr>\n",
       "    <tr>\n",
       "      <th>Portugal</th>\n",
       "      <td>3.839462</td>\n",
       "      <td>16.550398</td>\n",
       "      <td>1.4</td>\n",
       "      <td>31.952303</td>\n",
       "      <td>33.457898</td>\n",
       "      <td>470.67</td>\n",
       "      <td>1.689477</td>\n",
       "      <td>8.4</td>\n",
       "      <td>7.5</td>\n",
       "      <td>3.5</td>\n",
       "      <td>...</td>\n",
       "      <td>93.3</td>\n",
       "      <td>92.7</td>\n",
       "      <td>14.6</td>\n",
       "      <td>34.60</td>\n",
       "      <td>2.430484</td>\n",
       "      <td>10.6</td>\n",
       "      <td>10.9</td>\n",
       "      <td>18.1</td>\n",
       "      <td>14.1</td>\n",
       "      <td>22.8</td>\n",
       "    </tr>\n",
       "    <tr>\n",
       "      <th>Sweden</th>\n",
       "      <td>19.916998</td>\n",
       "      <td>3.969106</td>\n",
       "      <td>1.6</td>\n",
       "      <td>20.011460</td>\n",
       "      <td>15.746422</td>\n",
       "      <td>504.00</td>\n",
       "      <td>1.630063</td>\n",
       "      <td>4.7</td>\n",
       "      <td>4.2</td>\n",
       "      <td>2.4</td>\n",
       "      <td>...</td>\n",
       "      <td>99.0</td>\n",
       "      <td>95.0</td>\n",
       "      <td>16.4</td>\n",
       "      <td>19.27</td>\n",
       "      <td>6.783234</td>\n",
       "      <td>8.5</td>\n",
       "      <td>13.8</td>\n",
       "      <td>6.8</td>\n",
       "      <td>4.2</td>\n",
       "      <td>24.1</td>\n",
       "    </tr>\n",
       "    <tr>\n",
       "      <th>Switzerland</th>\n",
       "      <td>24.651815</td>\n",
       "      <td>9.433293</td>\n",
       "      <td>0.7</td>\n",
       "      <td>NaN</td>\n",
       "      <td>NaN</td>\n",
       "      <td>513.67</td>\n",
       "      <td>1.650385</td>\n",
       "      <td>7.2</td>\n",
       "      <td>7.0</td>\n",
       "      <td>4.2</td>\n",
       "      <td>...</td>\n",
       "      <td>96.0</td>\n",
       "      <td>86.0</td>\n",
       "      <td>13.1</td>\n",
       "      <td>20.33</td>\n",
       "      <td>7.280508</td>\n",
       "      <td>15.0</td>\n",
       "      <td>11.4</td>\n",
       "      <td>4.5</td>\n",
       "      <td>12.1</td>\n",
       "      <td>27.3</td>\n",
       "    </tr>\n",
       "    <tr>\n",
       "      <th>Turkey</th>\n",
       "      <td>5.071860</td>\n",
       "      <td>24.590000</td>\n",
       "      <td>13.6</td>\n",
       "      <td>NaN</td>\n",
       "      <td>NaN</td>\n",
       "      <td>431.67</td>\n",
       "      <td>1.704249</td>\n",
       "      <td>37.7</td>\n",
       "      <td>11.3</td>\n",
       "      <td>23.6</td>\n",
       "      <td>...</td>\n",
       "      <td>90.0</td>\n",
       "      <td>91.0</td>\n",
       "      <td>20.0</td>\n",
       "      <td>NaN</td>\n",
       "      <td>NaN</td>\n",
       "      <td>NaN</td>\n",
       "      <td>NaN</td>\n",
       "      <td>39.7</td>\n",
       "      <td>25.3</td>\n",
       "      <td>57.4</td>\n",
       "    </tr>\n",
       "    <tr>\n",
       "      <th>United Kingdom</th>\n",
       "      <td>22.697062</td>\n",
       "      <td>10.080000</td>\n",
       "      <td>1.8</td>\n",
       "      <td>21.497427</td>\n",
       "      <td>29.069052</td>\n",
       "      <td>501.67</td>\n",
       "      <td>1.690351</td>\n",
       "      <td>9.3</td>\n",
       "      <td>7.5</td>\n",
       "      <td>5.1</td>\n",
       "      <td>...</td>\n",
       "      <td>91.4</td>\n",
       "      <td>83.8</td>\n",
       "      <td>18.7</td>\n",
       "      <td>21.17</td>\n",
       "      <td>2.987869</td>\n",
       "      <td>15.9</td>\n",
       "      <td>22.1</td>\n",
       "      <td>24.8</td>\n",
       "      <td>9.7</td>\n",
       "      <td>35.7</td>\n",
       "    </tr>\n",
       "  </tbody>\n",
       "</table>\n",
       "<p>16 rows × 21 columns</p>\n",
       "</div>"
      ],
      "text/plain": [
       "                Average.disposable.income  Children.in.poor.homes  \\\n",
       "Austria                         22.162446                6.166094   \n",
       "Belgium                         21.401153                9.974720   \n",
       "France                          18.960382                7.640000   \n",
       "Germany                         19.894067               16.289270   \n",
       "Greece                          17.183647               13.230296   \n",
       "Hungary                          9.463130                8.724203   \n",
       "Italy                           17.180761               15.500000   \n",
       "Luxembourg                      34.241822               12.390000   \n",
       "Mexico                           5.335074               22.164514   \n",
       "Norway                          28.574371                4.600000   \n",
       "Poland                           7.939399               21.500000   \n",
       "Portugal                         3.839462               16.550398   \n",
       "Sweden                          19.916998                3.969106   \n",
       "Switzerland                     24.651815                9.433293   \n",
       "Turkey                           5.071860               24.590000   \n",
       "United Kingdom                  22.697062               10.080000   \n",
       "\n",
       "                Educational.Deprivation  Overcrowding  \\\n",
       "Austria                             0.6     34.014601   \n",
       "Belgium                             1.0     12.614505   \n",
       "France                              1.2     20.284619   \n",
       "Germany                             0.5     19.967763   \n",
       "Greece                              6.1     54.922056   \n",
       "Hungary                             2.1     73.306021   \n",
       "Italy                               1.2     47.851602   \n",
       "Luxembourg                          1.1     16.893185   \n",
       "Mexico                             13.7     69.600000   \n",
       "Norway                              1.3     15.113671   \n",
       "Poland                              2.1     73.957667   \n",
       "Portugal                            1.4     31.952303   \n",
       "Sweden                              1.6     20.011460   \n",
       "Switzerland                         0.7           NaN   \n",
       "Turkey                             13.6           NaN   \n",
       "United Kingdom                      1.8     21.497427   \n",
       "\n",
       "                Poor.environmental.conditions  Average.mean.literacy.score  \\\n",
       "Austria                             20.154186                       502.00   \n",
       "Belgium                             29.754526                       510.33   \n",
       "France                              25.830298                       493.00   \n",
       "Germany                             37.374708                       505.00   \n",
       "Greece                              25.070654                       464.00   \n",
       "Hungary                             22.213785                       492.33   \n",
       "Italy                               32.577363                       468.67   \n",
       "Luxembourg                          25.574231                       485.00   \n",
       "Mexico                                    NaN                       408.67   \n",
       "Norway                              11.992789                       487.00   \n",
       "Poland                              22.841904                       500.33   \n",
       "Portugal                            33.457898                       470.67   \n",
       "Sweden                              15.746422                       504.00   \n",
       "Switzerland                               NaN                       513.67   \n",
       "Turkey                                    NaN                       431.67   \n",
       "United Kingdom                      29.069052                       501.67   \n",
       "\n",
       "                Literacy.inequality  Youth.NEET.rate  Low.birth.weight  \\\n",
       "Austria                    1.716942              6.9               6.8   \n",
       "Belgium                    1.740258              6.2               7.8   \n",
       "France                     1.728004              6.2               6.8   \n",
       "Germany                    1.719702              4.4               6.8   \n",
       "Greece                     1.722499              9.8               8.8   \n",
       "Hungary                    1.620710              6.4               8.2   \n",
       "Italy                      1.752955             11.2               6.7   \n",
       "Luxembourg                 1.701361              2.2               4.9   \n",
       "Mexico                     1.755798              NaN               8.8   \n",
       "Norway                     1.692809              2.5               4.8   \n",
       "Poland                     1.632217              1.7               6.1   \n",
       "Portugal                   1.689477              8.4               7.5   \n",
       "Sweden                     1.630063              4.7               4.2   \n",
       "Switzerland                1.650385              7.2               7.0   \n",
       "Turkey                     1.704249             37.7              11.3   \n",
       "United Kingdom             1.690351              9.3               7.5   \n",
       "\n",
       "                Infant.mortality      ...        \\\n",
       "Austria                      4.2      ...         \n",
       "Belgium                      3.7      ...         \n",
       "France                       3.6      ...         \n",
       "Germany                      3.9      ...         \n",
       "Greece                       3.8      ...         \n",
       "Hungary                      6.2      ...         \n",
       "Italy                        4.7      ...         \n",
       "Luxembourg                   2.6      ...         \n",
       "Mexico                      18.8      ...         \n",
       "Norway                       3.1      ...         \n",
       "Poland                       6.4      ...         \n",
       "Portugal                     3.5      ...         \n",
       "Sweden                       2.4      ...         \n",
       "Switzerland                  4.2      ...         \n",
       "Turkey                      23.6      ...         \n",
       "United Kingdom               5.1      ...         \n",
       "\n",
       "                Vaccination.rates..pertussis.  Vaccination.rates.measles.  \\\n",
       "Austria                                  83.0                        74.0   \n",
       "Belgium                                  97.0                        88.0   \n",
       "France                                   98.0                        87.1   \n",
       "Germany                                  97.8                        94.0   \n",
       "Greece                                   88.0                        88.0   \n",
       "Hungary                                  99.8                        99.8   \n",
       "Italy                                    94.7                        87.3   \n",
       "Luxembourg                                NaN                         NaN   \n",
       "Mexico                                   98.1                        96.4   \n",
       "Norway                                   91.0                        88.0   \n",
       "Poland                                   99.0                        97.0   \n",
       "Portugal                                 93.3                        92.7   \n",
       "Sweden                                   99.0                        95.0   \n",
       "Switzerland                              96.0                        86.0   \n",
       "Turkey                                   90.0                        91.0   \n",
       "United Kingdom                           91.4                        83.8   \n",
       "\n",
       "                Physical.activity  Mortality.rates  Suicide.rates  Smoking  \\\n",
       "Austria                      19.6            24.57       9.482761     27.1   \n",
       "Belgium                      19.1            28.97       8.977713     16.7   \n",
       "France                       13.5            21.04       4.906704     19.0   \n",
       "Germany                      17.0            21.23       5.507378     19.5   \n",
       "Greece                       15.5            23.15       1.263026     16.5   \n",
       "Hungary                      19.5            25.75       6.806580     21.5   \n",
       "Italy                        15.1            21.76       2.437998     20.0   \n",
       "Luxembourg                   15.2            14.84       6.357194     19.0   \n",
       "Mexico                       18.1            50.23       5.128754      NaN   \n",
       "Norway                       15.6            21.49      10.094030     10.4   \n",
       "Poland                       17.3            28.13       8.863713     16.4   \n",
       "Portugal                     14.6            34.60       2.430484     10.6   \n",
       "Sweden                       16.4            19.27       6.783234      8.5   \n",
       "Switzerland                  13.1            20.33       7.280508     15.0   \n",
       "Turkey                       20.0              NaN            NaN      NaN   \n",
       "United Kingdom               18.7            21.17       2.987869     15.9   \n",
       "\n",
       "                Drunkenness  Teenage.births  Bullying  Liking.school  \n",
       "Austria                18.6            12.3      15.6           38.1  \n",
       "Belgium                13.9             7.8      12.2           21.6  \n",
       "France                 11.2             6.7      13.6           21.4  \n",
       "Germany                15.1             9.8      13.9           34.9  \n",
       "Greece                 10.3             8.7      22.0           25.6  \n",
       "Hungary                17.7            20.7       6.6           27.6  \n",
       "Italy                  10.0             6.8       7.9           12.8  \n",
       "Luxembourg             11.7             8.6      13.8           20.7  \n",
       "Mexico                  NaN            65.8       NaN            NaN  \n",
       "Norway                 14.0             9.4       8.3           41.7  \n",
       "Poland                 19.9            14.5       9.6           21.1  \n",
       "Portugal               10.9            18.1      14.1           22.8  \n",
       "Sweden                 13.8             6.8       4.2           24.1  \n",
       "Switzerland            11.4             4.5      12.1           27.3  \n",
       "Turkey                  NaN            39.7      25.3           57.4  \n",
       "United Kingdom         22.1            24.8       9.7           35.7  \n",
       "\n",
       "[16 rows x 21 columns]"
      ]
     },
     "execution_count": 10,
     "metadata": {},
     "output_type": "execute_result"
    }
   ],
   "source": [
    "physical_activity_mean = df[\"Physical.activity\"].mean()\n",
    "print(\"Physical activity mean: \", physical_activity_mean)\n",
    "physical_activity_lt_mean = df.loc[df[\"Physical.activity\"] < physical_activity_mean, :]\n",
    "physical_activity_lt_mean"
   ]
  },
  {
   "cell_type": "markdown",
   "metadata": {},
   "source": [
    "## Aufgabe 1.2"
   ]
  },
  {
   "cell_type": "markdown",
   "metadata": {},
   "source": [
    "### a)"
   ]
  },
  {
   "cell_type": "code",
   "execution_count": 11,
   "metadata": {},
   "outputs": [],
   "source": [
    "fuel_df = pd.read_table(\"d.fuel.dat\", sep=\",\", index_col=0)"
   ]
  },
  {
   "cell_type": "code",
   "execution_count": 12,
   "metadata": {},
   "outputs": [
    {
     "data": {
      "text/html": [
       "<div>\n",
       "<style scoped>\n",
       "    .dataframe tbody tr th:only-of-type {\n",
       "        vertical-align: middle;\n",
       "    }\n",
       "\n",
       "    .dataframe tbody tr th {\n",
       "        vertical-align: top;\n",
       "    }\n",
       "\n",
       "    .dataframe thead th {\n",
       "        text-align: right;\n",
       "    }\n",
       "</style>\n",
       "<table border=\"1\" class=\"dataframe\">\n",
       "  <thead>\n",
       "    <tr style=\"text-align: right;\">\n",
       "      <th></th>\n",
       "      <th>weight</th>\n",
       "      <th>mpg</th>\n",
       "    </tr>\n",
       "  </thead>\n",
       "  <tbody>\n",
       "    <tr>\n",
       "      <th>count</th>\n",
       "      <td>60.000000</td>\n",
       "      <td>60.000000</td>\n",
       "    </tr>\n",
       "    <tr>\n",
       "      <th>mean</th>\n",
       "      <td>2900.833333</td>\n",
       "      <td>24.583333</td>\n",
       "    </tr>\n",
       "    <tr>\n",
       "      <th>std</th>\n",
       "      <td>495.866103</td>\n",
       "      <td>4.791559</td>\n",
       "    </tr>\n",
       "    <tr>\n",
       "      <th>min</th>\n",
       "      <td>1845.000000</td>\n",
       "      <td>18.000000</td>\n",
       "    </tr>\n",
       "    <tr>\n",
       "      <th>25%</th>\n",
       "      <td>2571.250000</td>\n",
       "      <td>21.000000</td>\n",
       "    </tr>\n",
       "    <tr>\n",
       "      <th>50%</th>\n",
       "      <td>2885.000000</td>\n",
       "      <td>23.000000</td>\n",
       "    </tr>\n",
       "    <tr>\n",
       "      <th>75%</th>\n",
       "      <td>3231.250000</td>\n",
       "      <td>27.000000</td>\n",
       "    </tr>\n",
       "    <tr>\n",
       "      <th>max</th>\n",
       "      <td>3855.000000</td>\n",
       "      <td>37.000000</td>\n",
       "    </tr>\n",
       "  </tbody>\n",
       "</table>\n",
       "</div>"
      ],
      "text/plain": [
       "            weight        mpg\n",
       "count    60.000000  60.000000\n",
       "mean   2900.833333  24.583333\n",
       "std     495.866103   4.791559\n",
       "min    1845.000000  18.000000\n",
       "25%    2571.250000  21.000000\n",
       "50%    2885.000000  23.000000\n",
       "75%    3231.250000  27.000000\n",
       "max    3855.000000  37.000000"
      ]
     },
     "execution_count": 12,
     "metadata": {},
     "output_type": "execute_result"
    }
   ],
   "source": [
    "fuel_df.describe()"
   ]
  },
  {
   "cell_type": "code",
   "execution_count": 13,
   "metadata": {},
   "outputs": [
    {
     "data": {
      "text/html": [
       "<div>\n",
       "<style scoped>\n",
       "    .dataframe tbody tr th:only-of-type {\n",
       "        vertical-align: middle;\n",
       "    }\n",
       "\n",
       "    .dataframe tbody tr th {\n",
       "        vertical-align: top;\n",
       "    }\n",
       "\n",
       "    .dataframe thead th {\n",
       "        text-align: right;\n",
       "    }\n",
       "</style>\n",
       "<table border=\"1\" class=\"dataframe\">\n",
       "  <thead>\n",
       "    <tr style=\"text-align: right;\">\n",
       "      <th></th>\n",
       "      <th>weight</th>\n",
       "      <th>mpg</th>\n",
       "      <th>type</th>\n",
       "    </tr>\n",
       "    <tr>\n",
       "      <th>X</th>\n",
       "      <th></th>\n",
       "      <th></th>\n",
       "      <th></th>\n",
       "    </tr>\n",
       "  </thead>\n",
       "  <tbody>\n",
       "    <tr>\n",
       "      <th>1</th>\n",
       "      <td>2560</td>\n",
       "      <td>33</td>\n",
       "      <td>Small</td>\n",
       "    </tr>\n",
       "    <tr>\n",
       "      <th>2</th>\n",
       "      <td>2345</td>\n",
       "      <td>33</td>\n",
       "      <td>Small</td>\n",
       "    </tr>\n",
       "    <tr>\n",
       "      <th>3</th>\n",
       "      <td>1845</td>\n",
       "      <td>37</td>\n",
       "      <td>Small</td>\n",
       "    </tr>\n",
       "    <tr>\n",
       "      <th>4</th>\n",
       "      <td>2260</td>\n",
       "      <td>32</td>\n",
       "      <td>Small</td>\n",
       "    </tr>\n",
       "    <tr>\n",
       "      <th>5</th>\n",
       "      <td>2440</td>\n",
       "      <td>32</td>\n",
       "      <td>Small</td>\n",
       "    </tr>\n",
       "  </tbody>\n",
       "</table>\n",
       "</div>"
      ],
      "text/plain": [
       "   weight  mpg   type\n",
       "X                    \n",
       "1    2560   33  Small\n",
       "2    2345   33  Small\n",
       "3    1845   37  Small\n",
       "4    2260   32  Small\n",
       "5    2440   32  Small"
      ]
     },
     "execution_count": 13,
     "metadata": {},
     "output_type": "execute_result"
    }
   ],
   "source": [
    "fuel_df.head()"
   ]
  },
  {
   "cell_type": "markdown",
   "metadata": {},
   "source": [
    "### b)"
   ]
  },
  {
   "cell_type": "code",
   "execution_count": 14,
   "metadata": {},
   "outputs": [
    {
     "data": {
      "text/plain": [
       "weight     2260\n",
       "mpg          32\n",
       "type      Small\n",
       "Name: 4, dtype: object"
      ]
     },
     "execution_count": 14,
     "metadata": {},
     "output_type": "execute_result"
    }
   ],
   "source": [
    "fuel_df.loc[4]"
   ]
  },
  {
   "cell_type": "markdown",
   "metadata": {},
   "source": [
    "### c)"
   ]
  },
  {
   "cell_type": "code",
   "execution_count": 15,
   "metadata": {},
   "outputs": [
    {
     "data": {
      "text/html": [
       "<div>\n",
       "<style scoped>\n",
       "    .dataframe tbody tr th:only-of-type {\n",
       "        vertical-align: middle;\n",
       "    }\n",
       "\n",
       "    .dataframe tbody tr th {\n",
       "        vertical-align: top;\n",
       "    }\n",
       "\n",
       "    .dataframe thead th {\n",
       "        text-align: right;\n",
       "    }\n",
       "</style>\n",
       "<table border=\"1\" class=\"dataframe\">\n",
       "  <thead>\n",
       "    <tr style=\"text-align: right;\">\n",
       "      <th></th>\n",
       "      <th>weight</th>\n",
       "      <th>mpg</th>\n",
       "      <th>type</th>\n",
       "    </tr>\n",
       "    <tr>\n",
       "      <th>X</th>\n",
       "      <th></th>\n",
       "      <th></th>\n",
       "      <th></th>\n",
       "    </tr>\n",
       "  </thead>\n",
       "  <tbody>\n",
       "    <tr>\n",
       "      <th>1</th>\n",
       "      <td>2560</td>\n",
       "      <td>33</td>\n",
       "      <td>Small</td>\n",
       "    </tr>\n",
       "    <tr>\n",
       "      <th>2</th>\n",
       "      <td>2345</td>\n",
       "      <td>33</td>\n",
       "      <td>Small</td>\n",
       "    </tr>\n",
       "    <tr>\n",
       "      <th>3</th>\n",
       "      <td>1845</td>\n",
       "      <td>37</td>\n",
       "      <td>Small</td>\n",
       "    </tr>\n",
       "    <tr>\n",
       "      <th>4</th>\n",
       "      <td>2260</td>\n",
       "      <td>32</td>\n",
       "      <td>Small</td>\n",
       "    </tr>\n",
       "    <tr>\n",
       "      <th>5</th>\n",
       "      <td>2440</td>\n",
       "      <td>32</td>\n",
       "      <td>Small</td>\n",
       "    </tr>\n",
       "  </tbody>\n",
       "</table>\n",
       "</div>"
      ],
      "text/plain": [
       "   weight  mpg   type\n",
       "X                    \n",
       "1    2560   33  Small\n",
       "2    2345   33  Small\n",
       "3    1845   37  Small\n",
       "4    2260   32  Small\n",
       "5    2440   32  Small"
      ]
     },
     "execution_count": 15,
     "metadata": {},
     "output_type": "execute_result"
    }
   ],
   "source": [
    "fuel_df.loc[:5]"
   ]
  },
  {
   "cell_type": "markdown",
   "metadata": {},
   "source": [
    "### d)"
   ]
  },
  {
   "cell_type": "code",
   "execution_count": 16,
   "metadata": {},
   "outputs": [
    {
     "data": {
      "text/plain": [
       "24.583333333333332"
      ]
     },
     "execution_count": 16,
     "metadata": {},
     "output_type": "execute_result"
    }
   ],
   "source": [
    "fuel_df[\"mpg\"].mean()"
   ]
  },
  {
   "cell_type": "markdown",
   "metadata": {},
   "source": [
    "### e)"
   ]
  },
  {
   "cell_type": "code",
   "execution_count": 17,
   "metadata": {},
   "outputs": [
    {
     "data": {
      "text/plain": [
       "27.75"
      ]
     },
     "execution_count": 17,
     "metadata": {},
     "output_type": "execute_result"
    }
   ],
   "source": [
    "fuel_df.loc[7:22][\"mpg\"].mean()"
   ]
  },
  {
   "cell_type": "markdown",
   "metadata": {},
   "source": [
    "### f)"
   ]
  },
  {
   "cell_type": "code",
   "execution_count": 18,
   "metadata": {},
   "outputs": [
    {
     "data": {
      "text/html": [
       "<div>\n",
       "<style scoped>\n",
       "    .dataframe tbody tr th:only-of-type {\n",
       "        vertical-align: middle;\n",
       "    }\n",
       "\n",
       "    .dataframe tbody tr th {\n",
       "        vertical-align: top;\n",
       "    }\n",
       "\n",
       "    .dataframe thead th {\n",
       "        text-align: right;\n",
       "    }\n",
       "</style>\n",
       "<table border=\"1\" class=\"dataframe\">\n",
       "  <thead>\n",
       "    <tr style=\"text-align: right;\">\n",
       "      <th></th>\n",
       "      <th>weight</th>\n",
       "      <th>mpg</th>\n",
       "      <th>type</th>\n",
       "      <th>t_kg</th>\n",
       "      <th>t_kml</th>\n",
       "    </tr>\n",
       "    <tr>\n",
       "      <th>X</th>\n",
       "      <th></th>\n",
       "      <th></th>\n",
       "      <th></th>\n",
       "      <th></th>\n",
       "      <th></th>\n",
       "    </tr>\n",
       "  </thead>\n",
       "  <tbody>\n",
       "    <tr>\n",
       "      <th>1</th>\n",
       "      <td>2560</td>\n",
       "      <td>33</td>\n",
       "      <td>Small</td>\n",
       "      <td>1161.19552</td>\n",
       "      <td>53.1069</td>\n",
       "    </tr>\n",
       "    <tr>\n",
       "      <th>2</th>\n",
       "      <td>2345</td>\n",
       "      <td>33</td>\n",
       "      <td>Small</td>\n",
       "      <td>1063.67324</td>\n",
       "      <td>53.1069</td>\n",
       "    </tr>\n",
       "    <tr>\n",
       "      <th>3</th>\n",
       "      <td>1845</td>\n",
       "      <td>37</td>\n",
       "      <td>Small</td>\n",
       "      <td>836.87724</td>\n",
       "      <td>59.5441</td>\n",
       "    </tr>\n",
       "    <tr>\n",
       "      <th>4</th>\n",
       "      <td>2260</td>\n",
       "      <td>32</td>\n",
       "      <td>Small</td>\n",
       "      <td>1025.11792</td>\n",
       "      <td>51.4976</td>\n",
       "    </tr>\n",
       "    <tr>\n",
       "      <th>5</th>\n",
       "      <td>2440</td>\n",
       "      <td>32</td>\n",
       "      <td>Small</td>\n",
       "      <td>1106.76448</td>\n",
       "      <td>51.4976</td>\n",
       "    </tr>\n",
       "  </tbody>\n",
       "</table>\n",
       "</div>"
      ],
      "text/plain": [
       "   weight  mpg   type        t_kg    t_kml\n",
       "X                                         \n",
       "1    2560   33  Small  1161.19552  53.1069\n",
       "2    2345   33  Small  1063.67324  53.1069\n",
       "3    1845   37  Small   836.87724  59.5441\n",
       "4    2260   32  Small  1025.11792  51.4976\n",
       "5    2440   32  Small  1106.76448  51.4976"
      ]
     },
     "execution_count": 18,
     "metadata": {},
     "output_type": "execute_result"
    }
   ],
   "source": [
    "fuel_df[\"t_kg\"] = fuel_df.apply(lambda row: row[\"weight\"] * 0.453592, axis=1)\n",
    "fuel_df[\"t_kml\"] = fuel_df.apply(lambda row: row[\"mpg\"] * 1.6093, axis=1)\n",
    "fuel_df.head()"
   ]
  },
  {
   "cell_type": "markdown",
   "metadata": {},
   "source": [
    "## Aufgabe 1.3"
   ]
  },
  {
   "cell_type": "code",
   "execution_count": 19,
   "metadata": {},
   "outputs": [],
   "source": [
    "areas = pd.Series([2.1, 2.4, 2.8, 3.1, 4.2, 4.9, 5.1, 6.0, 6.4, 7.3, 10.8, 12.5, 13.0, 13.7, 14.8, 17.6, 19.6, 23.0, 25.0, 35.2, 39.6])"
   ]
  },
  {
   "cell_type": "markdown",
   "metadata": {},
   "source": [
    "### a)"
   ]
  },
  {
   "cell_type": "code",
   "execution_count": 20,
   "metadata": {},
   "outputs": [
    {
     "data": {
      "text/plain": [
       "269.1"
      ]
     },
     "execution_count": 20,
     "metadata": {},
     "output_type": "execute_result"
    }
   ],
   "source": [
    "areas.sum()"
   ]
  },
  {
   "cell_type": "code",
   "execution_count": 21,
   "metadata": {},
   "outputs": [
    {
     "data": {
      "text/plain": [
       "5729.27"
      ]
     },
     "execution_count": 21,
     "metadata": {},
     "output_type": "execute_result"
    }
   ],
   "source": [
    "(areas ** 2).sum()"
   ]
  },
  {
   "cell_type": "markdown",
   "metadata": {},
   "source": [
    "### b)"
   ]
  },
  {
   "cell_type": "code",
   "execution_count": 22,
   "metadata": {},
   "outputs": [
    {
     "data": {
      "text/plain": [
       "12.814285714285715"
      ]
     },
     "execution_count": 22,
     "metadata": {},
     "output_type": "execute_result"
    }
   ],
   "source": [
    "mean = areas.sum() / len(areas)\n",
    "mean"
   ]
  },
  {
   "cell_type": "code",
   "execution_count": 23,
   "metadata": {},
   "outputs": [],
   "source": [
    "assert mean == areas.mean()"
   ]
  },
  {
   "cell_type": "code",
   "execution_count": 24,
   "metadata": {},
   "outputs": [
    {
     "data": {
      "text/plain": [
       "114.04728571428572"
      ]
     },
     "execution_count": 24,
     "metadata": {},
     "output_type": "execute_result"
    }
   ],
   "source": [
    "var = ((areas - mean) ** 2).sum() / (len(areas) - 1)\n",
    "var"
   ]
  },
  {
   "cell_type": "code",
   "execution_count": 25,
   "metadata": {},
   "outputs": [],
   "source": [
    "assert var == areas.var()"
   ]
  },
  {
   "cell_type": "code",
   "execution_count": 26,
   "metadata": {},
   "outputs": [
    {
     "data": {
      "text/plain": [
       "10.679292378911898"
      ]
     },
     "execution_count": 26,
     "metadata": {},
     "output_type": "execute_result"
    }
   ],
   "source": [
    "std = np.sqrt(var)\n",
    "std"
   ]
  },
  {
   "cell_type": "code",
   "execution_count": 27,
   "metadata": {},
   "outputs": [],
   "source": [
    "assert std == areas.std()"
   ]
  },
  {
   "cell_type": "markdown",
   "metadata": {},
   "source": [
    "### c)"
   ]
  },
  {
   "cell_type": "code",
   "execution_count": 28,
   "metadata": {},
   "outputs": [],
   "source": [
    "sorted_areas = areas.sort_values()"
   ]
  },
  {
   "cell_type": "code",
   "execution_count": 29,
   "metadata": {},
   "outputs": [
    {
     "data": {
      "text/plain": [
       "10.8"
      ]
     },
     "execution_count": 29,
     "metadata": {},
     "output_type": "execute_result"
    }
   ],
   "source": [
    "# only works for Series with odd amount of elements\n",
    "median = sorted_areas[np.round(len(sorted_areas) / 2)]\n",
    "median"
   ]
  },
  {
   "cell_type": "code",
   "execution_count": 30,
   "metadata": {},
   "outputs": [],
   "source": [
    "assert median == areas.median()"
   ]
  },
  {
   "cell_type": "markdown",
   "metadata": {},
   "source": [
    "### d)"
   ]
  },
  {
   "cell_type": "code",
   "execution_count": 31,
   "metadata": {},
   "outputs": [
    {
     "data": {
      "text/plain": [
       "12.814285714285715"
      ]
     },
     "execution_count": 31,
     "metadata": {},
     "output_type": "execute_result"
    }
   ],
   "source": [
    "areas.mean()"
   ]
  },
  {
   "cell_type": "code",
   "execution_count": 32,
   "metadata": {},
   "outputs": [
    {
     "data": {
      "text/plain": [
       "10.679292378911898"
      ]
     },
     "execution_count": 32,
     "metadata": {},
     "output_type": "execute_result"
    }
   ],
   "source": [
    "areas.std()"
   ]
  },
  {
   "cell_type": "code",
   "execution_count": 33,
   "metadata": {},
   "outputs": [
    {
     "data": {
      "text/plain": [
       "10.8"
      ]
     },
     "execution_count": 33,
     "metadata": {},
     "output_type": "execute_result"
    }
   ],
   "source": [
    "areas.median()"
   ]
  },
  {
   "cell_type": "code",
   "execution_count": 34,
   "metadata": {},
   "outputs": [
    {
     "data": {
      "text/plain": [
       "17.6"
      ]
     },
     "execution_count": 34,
     "metadata": {},
     "output_type": "execute_result"
    }
   ],
   "source": [
    "areas.quantile(q=0.75, interpolation=\"midpoint\")"
   ]
  },
  {
   "cell_type": "markdown",
   "metadata": {},
   "source": [
    "### e)"
   ]
  },
  {
   "cell_type": "code",
   "execution_count": 35,
   "metadata": {},
   "outputs": [],
   "source": [
    "z = (areas - areas.mean()) / areas.std()"
   ]
  },
  {
   "cell_type": "code",
   "execution_count": 36,
   "metadata": {},
   "outputs": [
    {
     "data": {
      "text/plain": [
       "-0.18861602836750385"
      ]
     },
     "execution_count": 36,
     "metadata": {},
     "output_type": "execute_result"
    }
   ],
   "source": [
    "z.median()"
   ]
  },
  {
   "cell_type": "code",
   "execution_count": 37,
   "metadata": {},
   "outputs": [
    {
     "data": {
      "text/plain": [
       "1.0"
      ]
     },
     "execution_count": 37,
     "metadata": {},
     "output_type": "execute_result"
    }
   ],
   "source": [
    "z.std()"
   ]
  },
  {
   "cell_type": "markdown",
   "metadata": {},
   "source": [
    "## Aufgabe 1.4"
   ]
  },
  {
   "cell_type": "markdown",
   "metadata": {},
   "source": [
    "1 => b <br>\n",
    "2 => c <br>\n",
    "3 => a <br>"
   ]
  },
  {
   "cell_type": "markdown",
   "metadata": {},
   "source": [
    "## Aufgabe 1.5"
   ]
  },
  {
   "cell_type": "markdown",
   "metadata": {},
   "source": [
    "### a)"
   ]
  },
  {
   "cell_type": "code",
   "execution_count": 38,
   "metadata": {},
   "outputs": [],
   "source": [
    "geysir_df = pd.read_table(\"geysir.dat\", sep=\" \", index_col=0)"
   ]
  },
  {
   "cell_type": "code",
   "execution_count": 39,
   "metadata": {},
   "outputs": [
    {
     "data": {
      "text/html": [
       "<div>\n",
       "<style scoped>\n",
       "    .dataframe tbody tr th:only-of-type {\n",
       "        vertical-align: middle;\n",
       "    }\n",
       "\n",
       "    .dataframe tbody tr th {\n",
       "        vertical-align: top;\n",
       "    }\n",
       "\n",
       "    .dataframe thead th {\n",
       "        text-align: right;\n",
       "    }\n",
       "</style>\n",
       "<table border=\"1\" class=\"dataframe\">\n",
       "  <thead>\n",
       "    <tr style=\"text-align: right;\">\n",
       "      <th></th>\n",
       "      <th>Tag</th>\n",
       "      <th>Zeitspanne</th>\n",
       "      <th>Eruptionsdauer</th>\n",
       "    </tr>\n",
       "  </thead>\n",
       "  <tbody>\n",
       "    <tr>\n",
       "      <th>count</th>\n",
       "      <td>107.000000</td>\n",
       "      <td>107.000000</td>\n",
       "      <td>107.000000</td>\n",
       "    </tr>\n",
       "    <tr>\n",
       "      <th>mean</th>\n",
       "      <td>4.514019</td>\n",
       "      <td>71.000000</td>\n",
       "      <td>3.460748</td>\n",
       "    </tr>\n",
       "    <tr>\n",
       "      <th>std</th>\n",
       "      <td>2.275234</td>\n",
       "      <td>12.966575</td>\n",
       "      <td>1.036299</td>\n",
       "    </tr>\n",
       "    <tr>\n",
       "      <th>min</th>\n",
       "      <td>1.000000</td>\n",
       "      <td>42.000000</td>\n",
       "      <td>1.700000</td>\n",
       "    </tr>\n",
       "    <tr>\n",
       "      <th>25%</th>\n",
       "      <td>3.000000</td>\n",
       "      <td>59.000000</td>\n",
       "      <td>2.300000</td>\n",
       "    </tr>\n",
       "    <tr>\n",
       "      <th>50%</th>\n",
       "      <td>5.000000</td>\n",
       "      <td>75.000000</td>\n",
       "      <td>3.800000</td>\n",
       "    </tr>\n",
       "    <tr>\n",
       "      <th>75%</th>\n",
       "      <td>6.000000</td>\n",
       "      <td>80.500000</td>\n",
       "      <td>4.300000</td>\n",
       "    </tr>\n",
       "    <tr>\n",
       "      <th>max</th>\n",
       "      <td>8.000000</td>\n",
       "      <td>95.000000</td>\n",
       "      <td>4.900000</td>\n",
       "    </tr>\n",
       "  </tbody>\n",
       "</table>\n",
       "</div>"
      ],
      "text/plain": [
       "              Tag  Zeitspanne  Eruptionsdauer\n",
       "count  107.000000  107.000000      107.000000\n",
       "mean     4.514019   71.000000        3.460748\n",
       "std      2.275234   12.966575        1.036299\n",
       "min      1.000000   42.000000        1.700000\n",
       "25%      3.000000   59.000000        2.300000\n",
       "50%      5.000000   75.000000        3.800000\n",
       "75%      6.000000   80.500000        4.300000\n",
       "max      8.000000   95.000000        4.900000"
      ]
     },
     "execution_count": 39,
     "metadata": {},
     "output_type": "execute_result"
    }
   ],
   "source": [
    "geysir_df.describe()"
   ]
  },
  {
   "cell_type": "code",
   "execution_count": 40,
   "metadata": {},
   "outputs": [
    {
     "data": {
      "text/html": [
       "<div>\n",
       "<style scoped>\n",
       "    .dataframe tbody tr th:only-of-type {\n",
       "        vertical-align: middle;\n",
       "    }\n",
       "\n",
       "    .dataframe tbody tr th {\n",
       "        vertical-align: top;\n",
       "    }\n",
       "\n",
       "    .dataframe thead th {\n",
       "        text-align: right;\n",
       "    }\n",
       "</style>\n",
       "<table border=\"1\" class=\"dataframe\">\n",
       "  <thead>\n",
       "    <tr style=\"text-align: right;\">\n",
       "      <th></th>\n",
       "      <th>Tag</th>\n",
       "      <th>Zeitspanne</th>\n",
       "      <th>Eruptionsdauer</th>\n",
       "    </tr>\n",
       "  </thead>\n",
       "  <tbody>\n",
       "    <tr>\n",
       "      <th>1</th>\n",
       "      <td>1</td>\n",
       "      <td>78</td>\n",
       "      <td>4.4</td>\n",
       "    </tr>\n",
       "    <tr>\n",
       "      <th>2</th>\n",
       "      <td>1</td>\n",
       "      <td>74</td>\n",
       "      <td>3.9</td>\n",
       "    </tr>\n",
       "    <tr>\n",
       "      <th>3</th>\n",
       "      <td>1</td>\n",
       "      <td>68</td>\n",
       "      <td>4.0</td>\n",
       "    </tr>\n",
       "    <tr>\n",
       "      <th>4</th>\n",
       "      <td>1</td>\n",
       "      <td>76</td>\n",
       "      <td>4.0</td>\n",
       "    </tr>\n",
       "    <tr>\n",
       "      <th>5</th>\n",
       "      <td>1</td>\n",
       "      <td>80</td>\n",
       "      <td>3.5</td>\n",
       "    </tr>\n",
       "  </tbody>\n",
       "</table>\n",
       "</div>"
      ],
      "text/plain": [
       "   Tag  Zeitspanne  Eruptionsdauer\n",
       "1    1          78             4.4\n",
       "2    1          74             3.9\n",
       "3    1          68             4.0\n",
       "4    1          76             4.0\n",
       "5    1          80             3.5"
      ]
     },
     "execution_count": 40,
     "metadata": {},
     "output_type": "execute_result"
    }
   ],
   "source": [
    "geysir_df.head()"
   ]
  },
  {
   "cell_type": "code",
   "execution_count": 41,
   "metadata": {},
   "outputs": [
    {
     "data": {
      "image/png": "[encoded data removed]",
      "text/plain": [
       "<Figure size 432x288 with 3 Axes>"
      ]
     },
     "metadata": {},
     "output_type": "display_data"
    }
   ],
   "source": [
    "plt.subplot(221)\n",
    "geysir_df[\"Zeitspanne\"].plot(kind=\"hist\", edgecolor=\"black\")\n",
    "plt.xlabel(\"10 Klassen\")\n",
    "\n",
    "plt.subplot(222)\n",
    "geysir_df[\"Zeitspanne\"].plot(kind=\"hist\", bins=20, edgecolor=\"black\")\n",
    "plt.xlabel(\"20 Klassen\")\n",
    "\n",
    "plt.subplot(223)\n",
    "geysir_df[\"Zeitspanne\"].plot(kind=\"hist\", bins=np.arange(41,107,11), edgecolor=\"black\")\n",
    "plt.xlabel(\"Klassengrenzen 41, 52 , 63, 74 , 85, 96\")\n",
    "\n",
    "plt.show()"
   ]
  },
  {
   "cell_type": "markdown",
   "metadata": {},
   "source": [
    "Die Anzahl der Klassen spielt eine grosse Rolle. Je nach Klassen groesser kann man gewissen Cluster nicht mehr erkennen."
   ]
  },
  {
   "cell_type": "code",
   "execution_count": null,
   "metadata": {},
   "outputs": [],
   "source": []
  }
 ],
 "metadata": {
  "kernelspec": {
   "display_name": "Python 3",
   "language": "python",
   "name": "python3"
  },
  "language_info": {
   "codemirror_mode": {
    "name": "ipython",
    "version": 3
   },
   "file_extension": ".py",
   "mimetype": "text/x-python",
   "name": "python",
   "nbconvert_exporter": "python",
   "pygments_lexer": "ipython3",
   "version": "3.6.4"
  }
 },
 "nbformat": 4,
 "nbformat_minor": 2
}
